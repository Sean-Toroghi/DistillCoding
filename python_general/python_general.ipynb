{
  "nbformat": 4,
  "nbformat_minor": 0,
  "metadata": {
    "colab": {
      "provenance": [],
      "authorship_tag": "ABX9TyNqec9DZ52+GwDzQpPUFgxD"
    },
    "kernelspec": {
      "name": "python3",
      "display_name": "Python 3"
    },
    "language_info": {
      "name": "python"
    }
  },
  "cells": [
    {
      "cell_type": "markdown",
      "source": [
        "<h1> Python distill coding reference</h1>"
      ],
      "metadata": {
        "id": "5ZfQyS_ZVj3V"
      }
    },
    {
      "cell_type": "markdown",
      "source": [
        ">[General purpose](#folderId=1IUwcYZ5DTA0PS8dtofiqLmhuU-8Ob50i&updateTitle=true&scrollTo=e1aIJ95sVZkq)\n",
        "\n",
        ">>[itertools](#folderId=1IUwcYZ5DTA0PS8dtofiqLmhuU-8Ob50i&updateTitle=true&scrollTo=OdZ3O9pgQOtr)\n",
        "\n",
        ">>[collections](#folderId=1IUwcYZ5DTA0PS8dtofiqLmhuU-8Ob50i&updateTitle=true&scrollTo=0V8LD71uF7RY)\n",
        "\n"
      ],
      "metadata": {
        "colab_type": "toc",
        "id": "AG95SZCgVX1h"
      }
    },
    {
      "cell_type": "markdown",
      "source": [
        "# General purpose"
      ],
      "metadata": {
        "id": "e1aIJ95sVZkq"
      }
    },
    {
      "cell_type": "markdown",
      "source": [
        "## itertools"
      ],
      "metadata": {
        "id": "OdZ3O9pgQOtr"
      }
    },
    {
      "cell_type": "markdown",
      "source": [
        "[Reference](https://docs.python.org/3/library/itertools.html)\n",
        "\n",
        "Itertools creates functions for efficient looping.\n",
        "\n",
        "| Iterator                        | Arguments          | Results                                                       |\n",
        "|---------------------------------|--------------------|---------------------------------------------------------------|\n",
        "| product()                       | p, q, … [repeat=1] | cartesian product, equivalent to a nested for-loop            |\n",
        "| permutations()                  | p[, r]             | r-length tuples, all possible orderings, no repeated elements |\n",
        "| combinations()                  | p, r               | r-length tuples, in sorted order, no repeated elements        |\n",
        "| combinations_with_replacement() | p, r               | r-length tuples, in sorted order, with repeated elements      |"
      ],
      "metadata": {
        "id": "h4F0GOcjQScY"
      }
    },
    {
      "cell_type": "code",
      "execution_count": 15,
      "metadata": {
        "colab": {
          "base_uri": "https://localhost:8080/"
        },
        "id": "BUpIcqV3E9Lc",
        "outputId": "82e36e52-476f-4217-995b-099c44d2cdad"
      },
      "outputs": [
        {
          "output_type": "stream",
          "name": "stdout",
          "text": [
            "product('ABCD', repeat=2): [('A', 'A'), ('A', 'B'), ('A', 'C'), ('B', 'A'), ('B', 'B'), ('B', 'C'), ('C', 'A'), ('C', 'B'), ('C', 'C')]\n",
            "permutations('ABCD', repeat=2): [('A', 'B'), ('A', 'C'), ('B', 'A'), ('B', 'C'), ('C', 'A'), ('C', 'B')]\n",
            "combinations('ABC', 2): [('A', 'B'), ('A', 'C'), ('B', 'C')]\n",
            "combinations_with_replacement('ABC', 2): [('A', 'A'), ('A', 'B'), ('A', 'C'), ('B', 'B'), ('B', 'C'), ('C', 'C')]\n"
          ]
        }
      ],
      "source": [
        "# itertools examples\n",
        "import itertools\n",
        "itr1 = itertools.product('ABC', repeat=2)\n",
        "itr2 = itertools.permutations('ABC', 2)\n",
        "itr3 = itertools.combinations('ABC', 2)\n",
        "itr4 = itertools.combinations_with_replacement('ABC', 2)\n",
        "\n",
        "\n",
        "print(f\"product('ABCD', repeat=2): {list(itr1)}\" )\n",
        "print(f\"permutations('ABCD', repeat=2): {list(itr2)}\" )\n",
        "print(f\"combinations('ABC', 2): {list(itr3)}\" )\n",
        "print(f\"combinations_with_replacement('ABC', 2): {list(itr4)}\" )\n"
      ]
    },
    {
      "cell_type": "markdown",
      "source": [
        "## collections"
      ],
      "metadata": {
        "id": "0V8LD71uF7RY"
      }
    },
    {
      "cell_type": "markdown",
      "source": [
        "Collections is a container and provide various specialized collection data types to approach specific programming problems.\n",
        "\n",
        "Colletions containers are dict, list, set, and tuple.\n",
        "\n",
        "[Reference](https://docs.python.org/3/library/collections.html#collections.namedtuple)"
      ],
      "metadata": {
        "id": "-uwY0wvdUfXU"
      }
    },
    {
      "cell_type": "code",
      "source": [
        "# example: namedtupe\n",
        "import collections\n",
        "\n",
        "Point = collections.namedtuple('Point', ['x', 'y'])\n",
        "p = Point(11,12)\n",
        "print(p.x,  p.x+p.y)"
      ],
      "metadata": {
        "colab": {
          "base_uri": "https://localhost:8080/"
        },
        "id": "_8R9RJP_WvLb",
        "outputId": "e756dcff-d177-4b19-a705-2dc24a44ee56"
      },
      "execution_count": 21,
      "outputs": [
        {
          "output_type": "stream",
          "name": "stdout",
          "text": [
            "11 23\n"
          ]
        }
      ]
    }
  ]
}